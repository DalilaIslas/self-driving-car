{
 "cells": [
  {
   "cell_type": "code",
   "execution_count": 1,
   "metadata": {},
   "outputs": [
    {
     "name": "stdout",
     "output_type": "stream",
     "text": [
      "tf.__version__: 2.8.0\n",
      "keras.__version__: 2.8.0\n"
     ]
    }
   ],
   "source": [
    "# python standard libraries\n",
    "import os\n",
    "import random\n",
    "import fnmatch\n",
    "import datetime\n",
    "import pickle\n",
    "\n",
    "# data processing\n",
    "import numpy as np\n",
    "import pandas as pd\n",
    "\n",
    "# tensorflow\n",
    "import tensorflow as tf\n",
    "from tensorflow import keras\n",
    "from keras.models import Sequential  # V2 is tensorflow.keras.xxxx, V1 is keras.xxx\n",
    "from keras.layers import Conv2D, MaxPool2D, Dropout, Flatten, Dense\n",
    "from tensorflow.keras.optimizers import Adam\n",
    "from keras.models import load_model\n",
    "print( f'tf.__version__: {tf.__version__}' )\n",
    "print( f'keras.__version__: {keras.__version__}' )\n",
    "\n",
    "# imaging\n",
    "import cv2\n",
    "import matplotlib.pyplot as plt\n",
    "import matplotlib.image as mpimg\n",
    "%matplotlib inline\n",
    "from PIL import Image\n",
    "\n",
    "# sklearn\n",
    "from sklearn.utils import shuffle\n",
    "from sklearn.model_selection import train_test_split"
   ]
  },
  {
   "cell_type": "code",
   "execution_count": 3,
   "metadata": {},
   "outputs": [],
   "source": [
    "def load_training():\n",
    "    labels = pd.read_csv('data/training_norm.csv')\n",
    "\n",
    "    images_dir = 'data/training_data/'\n",
    "\n",
    "    X = []\n",
    "    Y = []\n",
    "\n",
    "    pattern = '*.png'\n",
    "    for label in labels.itertuples():\n",
    "        filename = str(label.image_id) + '.png'\n",
    "\n",
    "        if fnmatch.fnmatch(filename, pattern):\n",
    "            X.append(os.path.join(images_dir, filename))\n",
    "            Y.append([label.angle, label.speed])\n",
    "\n",
    "    return X, Y"
   ]
  },
  {
   "cell_type": "code",
   "execution_count": 4,
   "metadata": {},
   "outputs": [],
   "source": [
    "def load_test():\n",
    "    images_dir = 'data/test_data/'\n",
    "    filenames = os.listdir(images_dir)\n",
    "\n",
    "    paths = []\n",
    "    for filename in filenames:\n",
    "        if fnmatch.fnmatch(filename, '*.png'):\n",
    "            paths.append(os.path.join(images_dir, filename))\n",
    "\n",
    "    return paths"
   ]
  },
  {
   "cell_type": "code",
   "execution_count": 5,
   "metadata": {},
   "outputs": [
    {
     "name": "stdout",
     "output_type": "stream",
     "text": [
      "Model: \"Nvidia_Model\"\n",
      "_________________________________________________________________\n",
      " Layer (type)                Output Shape              Param #   \n",
      "=================================================================\n",
      " conv2d (Conv2D)             (None, 31, 98, 24)        1824      \n"
     ]
    },
    {
     "name": "stderr",
     "output_type": "stream",
     "text": [
      "2022-04-20 11:16:45.082338: I tensorflow/core/platform/cpu_feature_guard.cc:151] This TensorFlow binary is optimized with oneAPI Deep Neural Network Library (oneDNN) to use the following CPU instructions in performance-critical operations:  AVX2 FMA\n",
      "To enable them in other operations, rebuild TensorFlow with the appropriate compiler flags.\n"
     ]
    },
    {
     "name": "stdout",
     "output_type": "stream",
     "text": [
      "                                                                 \n",
      " conv2d_1 (Conv2D)           (None, 14, 47, 36)        21636     \n",
      "                                                                 \n",
      " conv2d_2 (Conv2D)           (None, 5, 22, 48)         43248     \n",
      "                                                                 \n",
      " conv2d_3 (Conv2D)           (None, 3, 20, 64)         27712     \n",
      "                                                                 \n",
      " dropout (Dropout)           (None, 3, 20, 64)         0         \n",
      "                                                                 \n",
      " conv2d_4 (Conv2D)           (None, 1, 18, 64)         36928     \n",
      "                                                                 \n",
      " flatten (Flatten)           (None, 1152)              0         \n",
      "                                                                 \n",
      " dropout_1 (Dropout)         (None, 1152)              0         \n",
      "                                                                 \n",
      " dense (Dense)               (None, 100)               115300    \n",
      "                                                                 \n",
      " dense_1 (Dense)             (None, 50)                5050      \n",
      "                                                                 \n",
      " dense_2 (Dense)             (None, 10)                510       \n",
      "                                                                 \n",
      " dense_3 (Dense)             (None, 2)                 22        \n",
      "                                                                 \n",
      "=================================================================\n",
      "Total params: 252,230\n",
      "Trainable params: 252,230\n",
      "Non-trainable params: 0\n",
      "_________________________________________________________________\n",
      "None\n"
     ]
    }
   ],
   "source": [
    "def nvidia_model():\n",
    "    model = Sequential(name='Nvidia_Model')\n",
    "    \n",
    "    # elu=Expenential Linear Unit, similar to leaky Relu\n",
    "    # skipping 1st hiddel layer (nomralization layer), as we have normalized the data\n",
    "    \n",
    "    # Convolution Layers\n",
    "    model.add(Conv2D(24, (5, 5), strides=(2, 2), input_shape=(66, 200, 3), activation='elu')) \n",
    "    model.add(Conv2D(36, (5, 5), strides=(2, 2), activation='elu')) \n",
    "    model.add(Conv2D(48, (5, 5), strides=(2, 2), activation='elu')) \n",
    "    model.add(Conv2D(64, (3, 3), activation='elu')) \n",
    "    model.add(Dropout(0.2)) # not in original model. added for more robustness\n",
    "    model.add(Conv2D(64, (3, 3), activation='elu')) \n",
    "    \n",
    "    # Fully Connected Layers\n",
    "    model.add(Flatten())\n",
    "    model.add(Dropout(0.2)) # not in original model. added for more robustness\n",
    "    model.add(Dense(100, activation='elu'))\n",
    "    model.add(Dense(50, activation='elu'))\n",
    "    model.add(Dense(10, activation='elu'))\n",
    "    \n",
    "    # output layer: turn angle (from 45-135, 90 is straight, <90 turn left, >90 turn right)\n",
    "    model.add(Dense(2, activation='sigmoid'))\n",
    "    \n",
    "    # since this is a regression problem not classification problem,\n",
    "    # we use MSE (Mean Squared Error) as loss function\n",
    "    optimizer = Adam(learning_rate=1e-3) # lr is learning rate\n",
    "    model.compile(loss='mse', optimizer=optimizer)\n",
    "    \n",
    "    return model\n",
    "\n",
    "model = nvidia_model()\n",
    "print(model.summary())"
   ]
  },
  {
   "cell_type": "code",
   "execution_count": 6,
   "metadata": {},
   "outputs": [],
   "source": [
    "# Preprocess images for NVIDIA model.\n",
    "def img_preprocess(image):\n",
    "    height, _, _ = image.shape\n",
    "    #image = image[int(height/2):,:,:]  # remove top half of the image, as it is not relevant for lane following\n",
    "    image = cv2.cvtColor(image, cv2.COLOR_RGB2YUV)  # Nvidia model said it is best to use YUV color space\n",
    "    image = cv2.GaussianBlur(image, (3,3), 0)\n",
    "    image = cv2.resize(image, (200,66)) # input image size (200,66) Nvidia model\n",
    "    image = image / 255 # normalizing\n",
    "    return image\n",
    "\n",
    "def read_image(image_path):\n",
    "    image = cv2.imread(image_path)\n",
    "    image = cv2.cvtColor(image, cv2.COLOR_BGR2RGB)\n",
    "    return image\n",
    "\n",
    "\n",
    "def image_data_generator(image_paths, angles, batch_size, is_training):\n",
    "    while True:\n",
    "        batch_images = []\n",
    "        batch_steering_angles = []\n",
    "\n",
    "        # This works with batches of random images. \n",
    "        for i in range(batch_size):\n",
    "            random_index = random.randint(0, len(image_paths) - 1)\n",
    "\n",
    "            batch_steering_angles.append(angles[random_index])\n",
    "              \n",
    "            image = read_image(image_paths[random_index])\n",
    "            image = img_preprocess(image)\n",
    "            batch_images.append(image)\n",
    "            \n",
    "        yield(np.asarray(batch_images), np.asarray(batch_steering_angles))\n"
   ]
  },
  {
   "cell_type": "code",
   "execution_count": 7,
   "metadata": {},
   "outputs": [],
   "source": [
    "model_output_dir = 'model_output/'"
   ]
  },
  {
   "cell_type": "code",
   "execution_count": 8,
   "metadata": {},
   "outputs": [
    {
     "name": "stdout",
     "output_type": "stream",
     "text": [
      "Training data: 11034\n",
      "Validation data: 2759\n",
      "Epoch 1/10\n",
      "300/300 [==============================] - ETA: 0s - loss: 0.0705\n",
      "Epoch 1: val_loss improved from inf to 0.03433, saving model to model_output/lane_navigation_check.h5\n",
      "300/300 [==============================] - 360s 1s/step - loss: 0.0705 - val_loss: 0.0343\n",
      "Epoch 2/10\n",
      "300/300 [==============================] - ETA: 0s - loss: 0.0278\n",
      "Epoch 2: val_loss improved from 0.03433 to 0.02648, saving model to model_output/lane_navigation_check.h5\n",
      "300/300 [==============================] - 327s 1s/step - loss: 0.0278 - val_loss: 0.0265\n",
      "Epoch 3/10\n",
      "300/300 [==============================] - ETA: 0s - loss: 0.0199\n",
      "Epoch 3: val_loss improved from 0.02648 to 0.02182, saving model to model_output/lane_navigation_check.h5\n",
      "300/300 [==============================] - 376s 1s/step - loss: 0.0199 - val_loss: 0.0218\n",
      "Epoch 4/10\n",
      "300/300 [==============================] - ETA: 0s - loss: 0.0161\n",
      "Epoch 4: val_loss improved from 0.02182 to 0.01759, saving model to model_output/lane_navigation_check.h5\n",
      "300/300 [==============================] - 335s 1s/step - loss: 0.0161 - val_loss: 0.0176\n",
      "Epoch 5/10\n",
      "300/300 [==============================] - ETA: 0s - loss: 0.0130\n",
      "Epoch 5: val_loss did not improve from 0.01759\n",
      "300/300 [==============================] - 365s 1s/step - loss: 0.0130 - val_loss: 0.0196\n",
      "Epoch 6/10\n",
      "300/300 [==============================] - ETA: 0s - loss: 0.0116\n",
      "Epoch 6: val_loss improved from 0.01759 to 0.01676, saving model to model_output/lane_navigation_check.h5\n",
      "300/300 [==============================] - 329s 1s/step - loss: 0.0116 - val_loss: 0.0168\n",
      "Epoch 7/10\n",
      "300/300 [==============================] - ETA: 0s - loss: 0.0105\n",
      "Epoch 7: val_loss improved from 0.01676 to 0.01628, saving model to model_output/lane_navigation_check.h5\n",
      "300/300 [==============================] - 317s 1s/step - loss: 0.0105 - val_loss: 0.0163\n",
      "Epoch 8/10\n",
      "300/300 [==============================] - ETA: 0s - loss: 0.0099\n",
      "Epoch 8: val_loss improved from 0.01628 to 0.01461, saving model to model_output/lane_navigation_check.h5\n",
      "300/300 [==============================] - 338s 1s/step - loss: 0.0099 - val_loss: 0.0146\n",
      "Epoch 9/10\n",
      "300/300 [==============================] - ETA: 0s - loss: 0.0095\n",
      "Epoch 9: val_loss did not improve from 0.01461\n",
      "300/300 [==============================] - 325s 1s/step - loss: 0.0095 - val_loss: 0.0193\n",
      "Epoch 10/10\n",
      "300/300 [==============================] - ETA: 0s - loss: 0.0098\n",
      "Epoch 10: val_loss did not improve from 0.01461\n",
      "300/300 [==============================] - 297s 991ms/step - loss: 0.0098 - val_loss: 0.0170\n"
     ]
    }
   ],
   "source": [
    "# saves the model weights after each epoch if the validation loss decreased\n",
    "checkpoint_callback = tf.keras.callbacks.ModelCheckpoint(filepath=os.path.join(model_output_dir, 'lane_navigation_check.h5'), verbose=1, save_best_only=True)\n",
    "\n",
    "x, y = load_training()\n",
    "\n",
    "x_train, x_valid, y_train, y_valid = train_test_split(x, y, test_size=0.2)\n",
    "print(\"Training data: %d\\nValidation data: %d\" % (len(x_train), len(x_valid)))\n",
    "\n",
    "log_dir = \"logs/fit/\" + datetime.datetime.now().strftime(\"%Y%m%d-%H%M%S\")\n",
    "tensorboard_callback = tf.keras.callbacks.TensorBoard(log_dir=log_dir, histogram_freq=1)\n",
    "\n",
    "history = model.fit(image_data_generator(x_train, y_train, batch_size=100, is_training=True),\n",
    "                              steps_per_epoch=300,\n",
    "                              epochs=10,\n",
    "                              validation_data = image_data_generator(x_valid, y_valid, batch_size=100, is_training=False),\n",
    "                              validation_steps=200,\n",
    "                              verbose=1,\n",
    "                              shuffle=1,\n",
    "                              callbacks=[checkpoint_callback, tensorboard_callback])\n",
    "\n",
    "# # always save model output as soon as model finishes training\n",
    "model.save(os.path.join(model_output_dir,'self-drive.h5'))"
   ]
  },
  {
   "cell_type": "code",
   "execution_count": 9,
   "metadata": {},
   "outputs": [
    {
     "data": {
      "text/plain": [
       "<matplotlib.legend.Legend at 0x135649b50>"
      ]
     },
     "execution_count": 9,
     "metadata": {},
     "output_type": "execute_result"
    },
    {
     "data": {
      "image/png": "[encoded data removed]",
      "text/plain": [
       "<Figure size 432x288 with 1 Axes>"
      ]
     },
     "metadata": {
      "needs_background": "light"
     },
     "output_type": "display_data"
    }
   ],
   "source": [
    "plt.plot(history.history['loss'],color='blue')\n",
    "plt.plot(history.history['val_loss'],color='red')\n",
    "plt.legend([\"training loss\", \"validation loss\"])"
   ]
  },
  {
   "cell_type": "code",
   "execution_count": 10,
   "metadata": {},
   "outputs": [
    {
     "name": "stdout",
     "output_type": "stream",
     "text": [
      "mse       = 0.012\n",
      "r_squared = 79.34%\n"
     ]
    }
   ],
   "source": [
    "from sklearn.metrics import mean_squared_error, r2_score\n",
    "\n",
    "def summarize_prediction(Y_true, Y_pred):\n",
    "    mse = mean_squared_error(Y_true, Y_pred)\n",
    "    r_squared = r2_score(Y_true, Y_pred)\n",
    "    print(f'mse       = {mse:.2}')\n",
    "    print(f'r_squared = {r_squared:.2%}')\n",
    "    \n",
    "def predict_and_summarize(X, Y):\n",
    "    model = load_model(f'{model_output_dir}/self-drive.h5')\n",
    "    prediction = model.predict(X)\n",
    "    summarize_prediction(Y, prediction)\n",
    "    return prediction\n",
    "\n",
    "n_tests = 100\n",
    "x_test, y_test = next(image_data_generator(x_valid, y_valid, n_tests, False))\n",
    "y_pred = predict_and_summarize(x_test, y_test)"
   ]
  },
  {
   "cell_type": "code",
   "execution_count": 11,
   "metadata": {},
   "outputs": [
    {
     "name": "stdout",
     "output_type": "stream",
     "text": [
      "data/test_data/348.png\n"
     ]
    }
   ],
   "source": [
    "model = load_model(f'{model_output_dir}/self-drive.h5')\n",
    "        \n",
    "def compute_steering_angle(model, frame):\n",
    "    x = np.asarray([img_preprocess(frame)])\n",
    "    \n",
    "    # Return array [angle, speed]\n",
    "    return model.predict(x)[0]\n",
    "\n",
    "x_test = load_test()\n",
    "\n",
    "print(x_test[0])\n",
    "\n",
    "predicted_angles = []\n",
    "predicted_speeds = []\n",
    "image_ids = []\n",
    "for image_path in x_test:\n",
    "    prediction = compute_steering_angle(model, read_image(image_path))\n",
    "    \n",
    "    predicted_angles.append(prediction[0])\n",
    "\n",
    "    if prediction[1] < 0.5:\n",
    "        predicted_speeds.append(0)\n",
    "    else:\n",
    "        predicted_speeds.append(1)\n",
    "\n",
    "    image_ids.append(os.path.basename(image_path).split('.')[0])"
   ]
  },
  {
   "cell_type": "code",
   "execution_count": 12,
   "metadata": {},
   "outputs": [
    {
     "name": "stdout",
     "output_type": "stream",
     "text": [
      "    image_id     angle  speed\n",
      "963        1  0.592690      0\n",
      "887        2  0.741342      1\n",
      "922        3  0.234167      1\n",
      "727        4  0.027597      1\n",
      "772        5  0.245651      1\n"
     ]
    }
   ],
   "source": [
    "from natsort import natsort_keygen\n",
    "\n",
    "data = {\n",
    "    'image_id': image_ids,\n",
    "    'angle': predicted_angles,\n",
    "    'speed': predicted_speeds\n",
    "}\n",
    "results = pd.DataFrame(data)\n",
    "results.sort_values('image_id', inplace=True, key=natsort_keygen())\n",
    "print(results.head())"
   ]
  },
  {
   "cell_type": "code",
   "execution_count": 13,
   "metadata": {},
   "outputs": [],
   "source": [
    "results.to_csv('results.csv', index=False)"
   ]
  },
  {
   "cell_type": "code",
   "execution_count": 14,
   "metadata": {},
   "outputs": [
    {
     "name": "stdout",
     "output_type": "stream",
     "text": [
      "770\n",
      "0.50561786\n"
     ]
    },
    {
     "data": {
      "text/plain": [
       "0"
      ]
     },
     "execution_count": 14,
     "metadata": {},
     "output_type": "execute_result"
    }
   ],
   "source": [
    "print(results.at[20, 'image_id'])\n",
    "print(results.at[20, 'angle'])\n",
    "results.at[20, 'speed']"
   ]
  },
  {
   "cell_type": "code",
   "execution_count": null,
   "metadata": {},
   "outputs": [],
   "source": []
  }
 ],
 "metadata": {
  "interpreter": {
   "hash": "aee8b7b246df8f9039afb4144a1f6fd8d2ca17a180786b69acc140d282b71a49"
  },
  "kernelspec": {
   "display_name": "Python 3.9.10 64-bit",
   "language": "python",
   "name": "python3"
  },
  "language_info": {
   "codemirror_mode": {
    "name": "ipython",
    "version": 3
   },
   "file_extension": ".py",
   "mimetype": "text/x-python",
   "name": "python",
   "nbconvert_exporter": "python",
   "pygments_lexer": "ipython3",
   "version": "3.9.10"
  },
  "orig_nbformat": 4
 },
 "nbformat": 4,
 "nbformat_minor": 2
}
