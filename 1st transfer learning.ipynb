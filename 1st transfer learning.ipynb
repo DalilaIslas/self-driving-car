{
  "cells": [
    {
      "cell_type": "code",
      "execution_count": 1,
      "metadata": {
        "colab": {
          "base_uri": "https://localhost:8080/"
        },
        "id": "VZeOqb9aO4AA",
        "outputId": "4fb9e943-9509-46ef-a81c-39250e97b231"
      },
      "outputs": [
        {
          "output_type": "stream",
          "name": "stdout",
          "text": [
            "tf.__version__: 2.8.0\n",
            "keras.__version__: 2.8.0\n"
          ]
        }
      ],
      "source": [
        "# python standard libraries\n",
        "import os\n",
        "import random\n",
        "import fnmatch\n",
        "import datetime\n",
        "import pickle\n",
        "\n",
        "# data processing\n",
        "import numpy as np\n",
        "import pandas as pd\n",
        "\n",
        "# tensorflow\n",
        "import tensorflow as tf\n",
        "from tensorflow import keras\n",
        "from keras.models import Sequential  # V2 is tensorflow.keras.xxxx, V1 is keras.xxx\n",
        "from keras.layers import Conv2D, MaxPool2D, Dropout, Flatten, Dense\n",
        "from tensorflow.keras.optimizers import Adam\n",
        "from keras.models import load_model\n",
        "print( f'tf.__version__: {tf.__version__}' )\n",
        "print( f'keras.__version__: {keras.__version__}' )\n",
        "\n",
        "# imaging\n",
        "import cv2\n",
        "import matplotlib.pyplot as plt\n",
        "import matplotlib.image as mpimg\n",
        "%matplotlib inline\n",
        "from PIL import Image\n",
        "\n",
        "# sklearn\n",
        "from sklearn.utils import shuffle\n",
        "from sklearn.model_selection import train_test_split"
      ]
    },
    {
      "cell_type": "code",
      "source": [
        "from google.colab import drive\n",
        "drive.mount('/content/drive')"
      ],
      "metadata": {
        "colab": {
          "base_uri": "https://localhost:8080/"
        },
        "id": "Q26MTm9HO-3C",
        "outputId": "44a3d134-ceb9-4515-a9a5-b21471a05d90"
      },
      "execution_count": 3,
      "outputs": [
        {
          "output_type": "stream",
          "name": "stdout",
          "text": [
            "Drive already mounted at /content/drive; to attempt to forcibly remount, call drive.mount(\"/content/drive\", force_remount=True).\n"
          ]
        }
      ]
    },
    {
      "cell_type": "code",
      "source": [
        "device_name = tf.test.gpu_device_name()\n",
        "if device_name != '/device:GPU:0':\n",
        "  raise SystemError('GPU device not found')\n",
        "print('Found GPU at: {}'.format(device_name))"
      ],
      "metadata": {
        "colab": {
          "base_uri": "https://localhost:8080/"
        },
        "id": "mhPgeFWlTT58",
        "outputId": "b39475cd-7269-4e1a-fc9e-461aba54c91b"
      },
      "execution_count": 2,
      "outputs": [
        {
          "output_type": "stream",
          "name": "stdout",
          "text": [
            "Found GPU at: /device:GPU:0\n"
          ]
        }
      ]
    },
    {
      "cell_type": "code",
      "source": [
        "from psutil import virtual_memory\n",
        "ram_gb = virtual_memory().total / 1e9\n",
        "print('Your runtime has {:.1f} gigabytes of available RAM\\n'.format(ram_gb))\n",
        "\n",
        "if ram_gb < 20:\n",
        "  print('Not using a high-RAM runtime')\n",
        "else:\n",
        "  print('You are using a high-RAM runtime!')"
      ],
      "metadata": {
        "colab": {
          "base_uri": "https://localhost:8080/"
        },
        "id": "ABt5HwNlBXyp",
        "outputId": "b5427858-d0b1-413f-c776-da09a2859541"
      },
      "execution_count": 3,
      "outputs": [
        {
          "output_type": "stream",
          "name": "stdout",
          "text": [
            "Your runtime has 27.3 gigabytes of available RAM\n",
            "\n",
            "You are using a high-RAM runtime!\n"
          ]
        }
      ]
    },
    {
      "cell_type": "code",
      "source": [
        "path = '/content/drive/MyDrive/Colab\\ Notebooks/autonomous_car'\n",
        "\n",
        "# Only run on fresh Colab start, gets data from Drive and unzips.\n",
        "!cp -r {path}/data/training_data.zip /content/data/\n",
        "!cp -r {path}/data/test_data.zip /content/data/\n",
        "!cp -r {path}/data/training_norm.csv /content/data/\n",
        "\n",
        "import zipfile\n",
        "with zipfile.ZipFile('data/training_data.zip', 'r') as zip_ref:\n",
        "    zip_ref.extractall('data/')\n",
        "\n",
        "with zipfile.ZipFile('data/test_data.zip', 'r') as zip_ref:\n",
        "    zip_ref.extractall('data/')"
      ],
      "metadata": {
        "id": "JE7SxskVPIMd"
      },
      "execution_count": 23,
      "outputs": []
    },
    {
      "cell_type": "code",
      "execution_count": 4,
      "metadata": {
        "id": "Lz4_LxJQO4AD"
      },
      "outputs": [],
      "source": [
        "def load_training():\n",
        "    labels = pd.read_csv('data/training_norm.csv')\n",
        "\n",
        "    images_dir = 'data/training_data/'\n",
        "\n",
        "    X = []\n",
        "    Y = []\n",
        "\n",
        "    pattern = '*.png'\n",
        "\n",
        "    for label in labels.itertuples():\n",
        "        filename = str(label.image_id) + '.png'\n",
        "\n",
        "        if fnmatch.fnmatch(filename, pattern):\n",
        "            X.append(os.path.join(images_dir, filename))\n",
        "            Y.append([label.angle, label.speed])\n",
        "\n",
        "    return X, Y"
      ]
    },
    {
      "cell_type": "code",
      "execution_count": 5,
      "metadata": {
        "id": "0ad7A6xKO4AE"
      },
      "outputs": [],
      "source": [
        "def load_test():\n",
        "    images_dir = 'data/test_data/'\n",
        "    filenames = os.listdir(images_dir)\n",
        "\n",
        "    paths = []\n",
        "    for filename in filenames:\n",
        "        if fnmatch.fnmatch(filename, '*.png'):\n",
        "            paths.append(os.path.join(images_dir, filename))\n",
        "\n",
        "    return paths"
      ]
    },
    {
      "cell_type": "code",
      "execution_count": 6,
      "metadata": {
        "colab": {
          "base_uri": "https://localhost:8080/",
          "height": 268
        },
        "id": "YOOb5ko3O4AF",
        "outputId": "12dcd643-2796-47e1-e619-16bdf3f65f1f"
      },
      "outputs": [
        {
          "output_type": "display_data",
          "data": {
            "text/plain": [
              "<Figure size 432x288 with 1 Axes>"
            ],
            "image/png": "[encoded data removed]"
          },
          "metadata": {
            "needs_background": "light"
          }
        }
      ],
      "source": [
        "# Preprocess images\n",
        "def img_preprocess(image):\n",
        "    height, _, _ = image.shape\n",
        "    image = image[int(height/2):,:,:]  # remove top half of the image, as it is not relevant for lane following\n",
        "    #image = cv2.cvtColor(image, cv2.COLOR_RGB2YUV)  # Nvidia model said it is best to use YUV color space\n",
        "    #image = cv2.GaussianBlur(image, (3,3), 0)\n",
        "    image = cv2.resize(image, (100, 100))\n",
        "    image = image / 255 # normalizing\n",
        "    return image\n",
        "\n",
        "def read_image(image_path):\n",
        "    image = cv2.imread(image_path)\n",
        "    image = cv2.cvtColor(image, cv2.COLOR_BGR2RGB)\n",
        "    return image\n",
        "\n",
        "image = read_image(load_training()[0][2])\n",
        "plt.imshow(img_preprocess(image))\n",
        "\n",
        "def image_data_generator(image_paths, labels, batch_size, is_training):\n",
        "    batch_images = []\n",
        "    batch_labels = []\n",
        "\n",
        "    while True:\n",
        "        for i in range(batch_size):\n",
        "            random_index = random.randint(0, len(image_paths) - 1)\n",
        "\n",
        "            image = read_image(image_paths[random_index])\n",
        "            image = img_preprocess(image)\n",
        "\n",
        "            batch_images.append(image)\n",
        "            batch_labels.append(labels[random_index])\n",
        "        \n",
        "        yield(np.asarray(batch_images), np.asarray(batch_labels))\n"
      ]
    },
    {
      "cell_type": "code",
      "execution_count": 7,
      "metadata": {
        "id": "S5igCGpGO4AG"
      },
      "outputs": [],
      "source": [
        "model_output_dir = 'model_output/'"
      ]
    },
    {
      "cell_type": "code",
      "execution_count": 8,
      "metadata": {
        "id": "t0Fs6T5hO4AG",
        "colab": {
          "base_uri": "https://localhost:8080/"
        },
        "outputId": "64cb6cea-c229-4162-ea85-267d752037ea"
      },
      "outputs": [
        {
          "output_type": "stream",
          "name": "stdout",
          "text": [
            "Model: \"model\"\n",
            "_________________________________________________________________\n",
            " Layer (type)                Output Shape              Param #   \n",
            "=================================================================\n",
            " input_2 (InputLayer)        [(None, 100, 100, 3)]     0         \n",
            "                                                                 \n",
            " inception_resnet_v2 (Functi  (None, 1, 1, 1536)       54336736  \n",
            " onal)                                                           \n",
            "                                                                 \n",
            " global_average_pooling2d (G  (None, 1536)             0         \n",
            " lobalAveragePooling2D)                                          \n",
            "                                                                 \n",
            " dropout (Dropout)           (None, 1536)              0         \n",
            "                                                                 \n",
            " dense (Dense)               (None, 2)                 3074      \n",
            "                                                                 \n",
            "=================================================================\n",
            "Total params: 54,339,810\n",
            "Trainable params: 3,074\n",
            "Non-trainable params: 54,336,736\n",
            "_________________________________________________________________\n"
          ]
        }
      ],
      "source": [
        "base_model = tf.keras.applications.InceptionResNetV2(\n",
        "        input_shape=(100,100,3),\n",
        "        weights=\"imagenet\",\n",
        "        include_top=False\n",
        "    )\n",
        "base_model.trainable = False\n",
        "\n",
        "inputs = keras.Input(shape=(100, 100, 3))\n",
        "\n",
        "x = base_model(inputs, training=False)\n",
        "x = keras.layers.GlobalAveragePooling2D()(x)\n",
        "x = keras.layers.Dropout(0.2)(x)  # Regularize with dropout\n",
        "\n",
        "outputs = keras.layers.Dense(2)(x)\n",
        "model = keras.Model(inputs, outputs)\n",
        "\n",
        "\n",
        "model.compile(optimizer=Adam(learning_rate=1e-3), loss='mse')\n",
        "model.summary()"
      ]
    },
    {
      "cell_type": "code",
      "source": [
        "%load_ext tensorboard\n",
        "import datetime\n",
        "\n",
        "!rm -rf ./logs/\n",
        "\n",
        "%tensorboard --logdir logs/fit"
      ],
      "metadata": {
        "colab": {
          "base_uri": "https://localhost:8080/",
          "height": 874
        },
        "id": "2qU3qcL5UCyt",
        "outputId": "bb5d477a-5676-48db-9710-72ff4fa4c2f4"
      },
      "execution_count": 22,
      "outputs": [
        {
          "output_type": "stream",
          "name": "stdout",
          "text": [
            "The tensorboard extension is already loaded. To reload it, use:\n",
            "  %reload_ext tensorboard\n"
          ]
        },
        {
          "output_type": "display_data",
          "data": {
            "text/plain": [
              "Reusing TensorBoard on port 6006 (pid 3916), started 11:48:43 ago. (Use '!kill 3916' to kill it.)"
            ]
          },
          "metadata": {}
        },
        {
          "output_type": "display_data",
          "data": {
            "text/plain": [
              "<IPython.core.display.Javascript object>"
            ],
            "application/javascript": [
              "\n",
              "        (async () => {\n",
              "            const url = new URL(await google.colab.kernel.proxyPort(6006, {'cache': true}));\n",
              "            url.searchParams.set('tensorboardColab', 'true');\n",
              "            const iframe = document.createElement('iframe');\n",
              "            iframe.src = url;\n",
              "            iframe.setAttribute('width', '100%');\n",
              "            iframe.setAttribute('height', '800');\n",
              "            iframe.setAttribute('frameborder', 0);\n",
              "            document.body.appendChild(iframe);\n",
              "        })();\n",
              "    "
            ]
          },
          "metadata": {}
        }
      ]
    },
    {
      "cell_type": "code",
      "execution_count": 10,
      "metadata": {
        "colab": {
          "base_uri": "https://localhost:8080/",
          "height": 1000
        },
        "id": "EIm-fyVfO4AH",
        "outputId": "c841ab81-459a-4220-af00-74f24c4962c3"
      },
      "outputs": [
        {
          "output_type": "stream",
          "name": "stdout",
          "text": [
            "Training data: 11034\n",
            "Validation data: 2759\n",
            "Epoch 1/10\n",
            "50/50 [==============================] - ETA: 0s - loss: 1.0136\n",
            "Epoch 1: val_loss improved from inf to 0.36541, saving model to model_output/lane_navigation_check.h5\n",
            "50/50 [==============================] - 306s 6s/step - loss: 1.0136 - val_loss: 0.3654\n",
            "Epoch 2/10\n",
            "50/50 [==============================] - ETA: 0s - loss: 0.6531\n",
            "Epoch 2: val_loss improved from 0.36541 to 0.21445, saving model to model_output/lane_navigation_check.h5\n",
            "50/50 [==============================] - 565s 11s/step - loss: 0.6531 - val_loss: 0.2144\n",
            "Epoch 3/10\n",
            "50/50 [==============================] - ETA: 0s - loss: 0.4619 \n",
            "Epoch 3: val_loss improved from 0.21445 to 0.14901, saving model to model_output/lane_navigation_check.h5\n",
            "50/50 [==============================] - 817s 17s/step - loss: 0.4619 - val_loss: 0.1490\n",
            "Epoch 4/10\n",
            "50/50 [==============================] - ETA: 0s - loss: 0.3241 \n",
            "Epoch 4: val_loss improved from 0.14901 to 0.11329, saving model to model_output/lane_navigation_check.h5\n",
            "50/50 [==============================] - 1080s 22s/step - loss: 0.3241 - val_loss: 0.1133\n",
            "Epoch 5/10\n",
            "50/50 [==============================] - ETA: 0s - loss: 0.2276 \n",
            "Epoch 5: val_loss improved from 0.11329 to 0.09099, saving model to model_output/lane_navigation_check.h5\n",
            "50/50 [==============================] - 1286s 26s/step - loss: 0.2276 - val_loss: 0.0910\n",
            "Epoch 6/10\n",
            "50/50 [==============================] - ETA: 0s - loss: 0.1660 \n",
            "Epoch 6: val_loss improved from 0.09099 to 0.07598, saving model to model_output/lane_navigation_check.h5\n",
            "50/50 [==============================] - 1620s 33s/step - loss: 0.1660 - val_loss: 0.0760\n",
            "Epoch 7/10\n",
            "50/50 [==============================] - ETA: 0s - loss: 0.1252 \n",
            "Epoch 7: val_loss improved from 0.07598 to 0.06778, saving model to model_output/lane_navigation_check.h5\n",
            "50/50 [==============================] - 1798s 37s/step - loss: 0.1252 - val_loss: 0.0678\n",
            "Epoch 8/10\n",
            "43/50 [========================>.....] - ETA: 3:20 - loss: 0.0992"
          ]
        },
        {
          "output_type": "error",
          "ename": "ResourceExhaustedError",
          "evalue": "ignored",
          "traceback": [
            "\u001b[0;31m---------------------------------------------------------------------------\u001b[0m",
            "\u001b[0;31mResourceExhaustedError\u001b[0m                    Traceback (most recent call last)",
            "\u001b[0;32m<ipython-input-10-e2a45409032e>\u001b[0m in \u001b[0;36m<module>\u001b[0;34m()\u001b[0m\n\u001b[1;32m     17\u001b[0m                               \u001b[0mverbose\u001b[0m\u001b[0;34m=\u001b[0m\u001b[0;36m1\u001b[0m\u001b[0;34m,\u001b[0m\u001b[0;34m\u001b[0m\u001b[0;34m\u001b[0m\u001b[0m\n\u001b[1;32m     18\u001b[0m                               \u001b[0mshuffle\u001b[0m\u001b[0;34m=\u001b[0m\u001b[0;36m1\u001b[0m\u001b[0;34m,\u001b[0m\u001b[0;34m\u001b[0m\u001b[0;34m\u001b[0m\u001b[0m\n\u001b[0;32m---> 19\u001b[0;31m                               callbacks=[checkpoint_callback, tensorboard_callback])\n\u001b[0m\u001b[1;32m     20\u001b[0m \u001b[0;34m\u001b[0m\u001b[0m\n\u001b[1;32m     21\u001b[0m \u001b[0;31m# # # always save model output as soon as model finishes training\u001b[0m\u001b[0;34m\u001b[0m\u001b[0;34m\u001b[0m\u001b[0;34m\u001b[0m\u001b[0m\n",
            "\u001b[0;32m/usr/local/lib/python3.7/dist-packages/keras/utils/traceback_utils.py\u001b[0m in \u001b[0;36merror_handler\u001b[0;34m(*args, **kwargs)\u001b[0m\n\u001b[1;32m     65\u001b[0m     \u001b[0;32mexcept\u001b[0m \u001b[0mException\u001b[0m \u001b[0;32mas\u001b[0m \u001b[0me\u001b[0m\u001b[0;34m:\u001b[0m  \u001b[0;31m# pylint: disable=broad-except\u001b[0m\u001b[0;34m\u001b[0m\u001b[0;34m\u001b[0m\u001b[0m\n\u001b[1;32m     66\u001b[0m       \u001b[0mfiltered_tb\u001b[0m \u001b[0;34m=\u001b[0m \u001b[0m_process_traceback_frames\u001b[0m\u001b[0;34m(\u001b[0m\u001b[0me\u001b[0m\u001b[0;34m.\u001b[0m\u001b[0m__traceback__\u001b[0m\u001b[0;34m)\u001b[0m\u001b[0;34m\u001b[0m\u001b[0;34m\u001b[0m\u001b[0m\n\u001b[0;32m---> 67\u001b[0;31m       \u001b[0;32mraise\u001b[0m \u001b[0me\u001b[0m\u001b[0;34m.\u001b[0m\u001b[0mwith_traceback\u001b[0m\u001b[0;34m(\u001b[0m\u001b[0mfiltered_tb\u001b[0m\u001b[0;34m)\u001b[0m \u001b[0;32mfrom\u001b[0m \u001b[0;32mNone\u001b[0m\u001b[0;34m\u001b[0m\u001b[0;34m\u001b[0m\u001b[0m\n\u001b[0m\u001b[1;32m     68\u001b[0m     \u001b[0;32mfinally\u001b[0m\u001b[0;34m:\u001b[0m\u001b[0;34m\u001b[0m\u001b[0;34m\u001b[0m\u001b[0m\n\u001b[1;32m     69\u001b[0m       \u001b[0;32mdel\u001b[0m \u001b[0mfiltered_tb\u001b[0m\u001b[0;34m\u001b[0m\u001b[0;34m\u001b[0m\u001b[0m\n",
            "\u001b[0;32m/usr/local/lib/python3.7/dist-packages/tensorflow/python/eager/execute.py\u001b[0m in \u001b[0;36mquick_execute\u001b[0;34m(op_name, num_outputs, inputs, attrs, ctx, name)\u001b[0m\n\u001b[1;32m     53\u001b[0m     \u001b[0mctx\u001b[0m\u001b[0;34m.\u001b[0m\u001b[0mensure_initialized\u001b[0m\u001b[0;34m(\u001b[0m\u001b[0;34m)\u001b[0m\u001b[0;34m\u001b[0m\u001b[0;34m\u001b[0m\u001b[0m\n\u001b[1;32m     54\u001b[0m     tensors = pywrap_tfe.TFE_Py_Execute(ctx._handle, device_name, op_name,\n\u001b[0;32m---> 55\u001b[0;31m                                         inputs, attrs, num_outputs)\n\u001b[0m\u001b[1;32m     56\u001b[0m   \u001b[0;32mexcept\u001b[0m \u001b[0mcore\u001b[0m\u001b[0;34m.\u001b[0m\u001b[0m_NotOkStatusException\u001b[0m \u001b[0;32mas\u001b[0m \u001b[0me\u001b[0m\u001b[0;34m:\u001b[0m\u001b[0;34m\u001b[0m\u001b[0;34m\u001b[0m\u001b[0m\n\u001b[1;32m     57\u001b[0m     \u001b[0;32mif\u001b[0m \u001b[0mname\u001b[0m \u001b[0;32mis\u001b[0m \u001b[0;32mnot\u001b[0m \u001b[0;32mNone\u001b[0m\u001b[0;34m:\u001b[0m\u001b[0;34m\u001b[0m\u001b[0;34m\u001b[0m\u001b[0m\n",
            "\u001b[0;31mResourceExhaustedError\u001b[0m: Graph execution error:\n\nDetected at node 'model/inception_resnet_v2/batch_normalization_2/FusedBatchNormV3' defined at (most recent call last):\n    File \"/usr/lib/python3.7/runpy.py\", line 193, in _run_module_as_main\n      \"__main__\", mod_spec)\n    File \"/usr/lib/python3.7/runpy.py\", line 85, in _run_code\n      exec(code, run_globals)\n    File \"/usr/local/lib/python3.7/dist-packages/ipykernel_launcher.py\", line 16, in <module>\n      app.launch_new_instance()\n    File \"/usr/local/lib/python3.7/dist-packages/traitlets/config/application.py\", line 846, in launch_instance\n      app.start()\n    File \"/usr/local/lib/python3.7/dist-packages/ipykernel/kernelapp.py\", line 499, in start\n      self.io_loop.start()\n    File \"/usr/local/lib/python3.7/dist-packages/tornado/platform/asyncio.py\", line 132, in start\n      self.asyncio_loop.run_forever()\n    File \"/usr/lib/python3.7/asyncio/base_events.py\", line 541, in run_forever\n      self._run_once()\n    File \"/usr/lib/python3.7/asyncio/base_events.py\", line 1786, in _run_once\n      handle._run()\n    File \"/usr/lib/python3.7/asyncio/events.py\", line 88, in _run\n      self._context.run(self._callback, *self._args)\n    File \"/usr/local/lib/python3.7/dist-packages/tornado/platform/asyncio.py\", line 122, in _handle_events\n      handler_func(fileobj, events)\n    File \"/usr/local/lib/python3.7/dist-packages/tornado/stack_context.py\", line 300, in null_wrapper\n      return fn(*args, **kwargs)\n    File \"/usr/local/lib/python3.7/dist-packages/zmq/eventloop/zmqstream.py\", line 452, in _handle_events\n      self._handle_recv()\n    File \"/usr/local/lib/python3.7/dist-packages/zmq/eventloop/zmqstream.py\", line 481, in _handle_recv\n      self._run_callback(callback, msg)\n    File \"/usr/local/lib/python3.7/dist-packages/zmq/eventloop/zmqstream.py\", line 431, in _run_callback\n      callback(*args, **kwargs)\n    File \"/usr/local/lib/python3.7/dist-packages/tornado/stack_context.py\", line 300, in null_wrapper\n      return fn(*args, **kwargs)\n    File \"/usr/local/lib/python3.7/dist-packages/ipykernel/kernelbase.py\", line 283, in dispatcher\n      return self.dispatch_shell(stream, msg)\n    File \"/usr/local/lib/python3.7/dist-packages/ipykernel/kernelbase.py\", line 233, in dispatch_shell\n      handler(stream, idents, msg)\n    File \"/usr/local/lib/python3.7/dist-packages/ipykernel/kernelbase.py\", line 399, in execute_request\n      user_expressions, allow_stdin)\n    File \"/usr/local/lib/python3.7/dist-packages/ipykernel/ipkernel.py\", line 208, in do_execute\n      res = shell.run_cell(code, store_history=store_history, silent=silent)\n    File \"/usr/local/lib/python3.7/dist-packages/ipykernel/zmqshell.py\", line 537, in run_cell\n      return super(ZMQInteractiveShell, self).run_cell(*args, **kwargs)\n    File \"/usr/local/lib/python3.7/dist-packages/IPython/core/interactiveshell.py\", line 2718, in run_cell\n      interactivity=interactivity, compiler=compiler, result=result)\n    File \"/usr/local/lib/python3.7/dist-packages/IPython/core/interactiveshell.py\", line 2822, in run_ast_nodes\n      if self.run_code(code, result):\n    File \"/usr/local/lib/python3.7/dist-packages/IPython/core/interactiveshell.py\", line 2882, in run_code\n      exec(code_obj, self.user_global_ns, self.user_ns)\n    File \"<ipython-input-10-e2a45409032e>\", line 19, in <module>\n      callbacks=[checkpoint_callback, tensorboard_callback])\n    File \"/usr/local/lib/python3.7/dist-packages/keras/utils/traceback_utils.py\", line 64, in error_handler\n      return fn(*args, **kwargs)\n    File \"/usr/local/lib/python3.7/dist-packages/keras/engine/training.py\", line 1384, in fit\n      tmp_logs = self.train_function(iterator)\n    File \"/usr/local/lib/python3.7/dist-packages/keras/engine/training.py\", line 1021, in train_function\n      return step_function(self, iterator)\n    File \"/usr/local/lib/python3.7/dist-packages/keras/engine/training.py\", line 1010, in step_function\n      outputs = model.distribute_strategy.run(run_step, args=(data,))\n    File \"/usr/local/lib/python3.7/dist-packages/keras/engine/training.py\", line 1000, in run_step\n      outputs = model.train_step(data)\n    File \"/usr/local/lib/python3.7/dist-packages/keras/engine/training.py\", line 859, in train_step\n      y_pred = self(x, training=True)\n    File \"/usr/local/lib/python3.7/dist-packages/keras/utils/traceback_utils.py\", line 64, in error_handler\n      return fn(*args, **kwargs)\n    File \"/usr/local/lib/python3.7/dist-packages/keras/engine/base_layer.py\", line 1096, in __call__\n      outputs = call_fn(inputs, *args, **kwargs)\n    File \"/usr/local/lib/python3.7/dist-packages/keras/utils/traceback_utils.py\", line 92, in error_handler\n      return fn(*args, **kwargs)\n    File \"/usr/local/lib/python3.7/dist-packages/keras/engine/functional.py\", line 452, in call\n      inputs, training=training, mask=mask)\n    File \"/usr/local/lib/python3.7/dist-packages/keras/engine/functional.py\", line 589, in _run_internal_graph\n      outputs = node.layer(*args, **kwargs)\n    File \"/usr/local/lib/python3.7/dist-packages/keras/utils/traceback_utils.py\", line 64, in error_handler\n      return fn(*args, **kwargs)\n    File \"/usr/local/lib/python3.7/dist-packages/keras/engine/base_layer.py\", line 1096, in __call__\n      outputs = call_fn(inputs, *args, **kwargs)\n    File \"/usr/local/lib/python3.7/dist-packages/keras/utils/traceback_utils.py\", line 92, in error_handler\n      return fn(*args, **kwargs)\n    File \"/usr/local/lib/python3.7/dist-packages/keras/engine/functional.py\", line 452, in call\n      inputs, training=training, mask=mask)\n    File \"/usr/local/lib/python3.7/dist-packages/keras/engine/functional.py\", line 589, in _run_internal_graph\n      outputs = node.layer(*args, **kwargs)\n    File \"/usr/local/lib/python3.7/dist-packages/keras/utils/traceback_utils.py\", line 64, in error_handler\n      return fn(*args, **kwargs)\n    File \"/usr/local/lib/python3.7/dist-packages/keras/engine/base_layer.py\", line 1096, in __call__\n      outputs = call_fn(inputs, *args, **kwargs)\n    File \"/usr/local/lib/python3.7/dist-packages/keras/utils/traceback_utils.py\", line 92, in error_handler\n      return fn(*args, **kwargs)\n    File \"/usr/local/lib/python3.7/dist-packages/keras/layers/normalization/batch_normalization.py\", line 767, in call\n      outputs = self._fused_batch_norm(inputs, training=training)\n    File \"/usr/local/lib/python3.7/dist-packages/keras/layers/normalization/batch_normalization.py\", line 624, in _fused_batch_norm\n      training, train_op, _fused_batch_norm_inference)\n    File \"/usr/local/lib/python3.7/dist-packages/keras/utils/control_flow_util.py\", line 106, in smart_cond\n      pred, true_fn=true_fn, false_fn=false_fn, name=name)\n    File \"/usr/local/lib/python3.7/dist-packages/keras/layers/normalization/batch_normalization.py\", line 613, in _fused_batch_norm_inference\n      data_format=self._data_format)\nNode: 'model/inception_resnet_v2/batch_normalization_2/FusedBatchNormV3'\nOOM when allocating tensor with shape[9456,64,47,47] and type float on /job:localhost/replica:0/task:0/device:GPU:0 by allocator GPU_0_bfc\n\t [[{{node model/inception_resnet_v2/batch_normalization_2/FusedBatchNormV3}}]]\nHint: If you want to see a list of allocated tensors when OOM happens, add report_tensor_allocations_upon_oom to RunOptions for current allocation info. This isn't available when running in Eager mode.\n [Op:__inference_train_function_33303]"
          ]
        }
      ],
      "source": [
        "# saves the model weights after each epoch if the validation loss decreased\n",
        "checkpoint_callback = tf.keras.callbacks.ModelCheckpoint(filepath=os.path.join(model_output_dir, 'lane_navigation_check.h5'), verbose=1, save_best_only=True)\n",
        "\n",
        "x, y = load_training()\n",
        "\n",
        "x_train, x_valid, y_train, y_valid = train_test_split(x, y, test_size=0.2)\n",
        "print(\"Training data: %d\\nValidation data: %d\" % (len(x_train), len(x_valid)))\n",
        "\n",
        "log_dir = \"logs/fit/\" + datetime.datetime.now().strftime(\"%Y%m%d-%H%M%S\")\n",
        "tensorboard_callback = tf.keras.callbacks.TensorBoard(log_dir=log_dir, histogram_freq=1)\n",
        "\n",
        "history = model.fit(image_data_generator(x_train, y_train, batch_size=24, is_training=True),\n",
        "                              steps_per_epoch=50,\n",
        "                              epochs=10,\n",
        "                              validation_data = image_data_generator(x_valid, y_valid, batch_size=24, is_training=False),\n",
        "                              validation_steps=50,\n",
        "                              verbose=1,\n",
        "                              shuffle=1,\n",
        "                              callbacks=[checkpoint_callback, tensorboard_callback])\n",
        "\n",
        "# # # always save model output as soon as model finishes training\n",
        "model.save(os.path.join(model_output_dir,'self-drive.h5'))"
      ]
    },
    {
      "cell_type": "code",
      "source": [
        "#filepath = \"model_output/lane_navigation_check.h5\"\n",
        "\n",
        "#reconstructed_model = keras.models.load_model(\"lane_navigation_check.h5\")\n",
        "\n",
        "#np.testing.assert_allclose(model.predict(image_data_generator(x_train, y_train, batch_size=24, is_training=True), \n",
        "#                reconstructed_model.predict((image_data_generator(x_train, y_train, \n",
        "#                batch_size=24, is_training=True)))\n",
        "\n",
        "#new_history= reconstructed_model.fit(image_data_generator(x_train, y_train, batch_size=24, is_training=True),\n",
        "#                              steps_per_epoch=50,\n",
        "#                              epochs=10,\n",
        "#                              validation_data = image_data_generator(x_valid, y_valid, batch_size=24, is_training=False),\n",
        "#                              validation_steps=50,\n",
        "#                              verbose=1,\n",
        "#                              shuffle=1,\n",
        "#                              callbacks=[checkpoint_callback, tensorboard_callback])\n",
        "\n",
        "#reconstructed_model.save(os.path.join(model_output_dir,'self-drive.h5'))\n",
        "\n",
        "\n",
        "# Prepare a directory to store all the checkpoints.\n",
        "checkpoint_dir = \"model_output/\"\n",
        "if not os.path.exists(checkpoint_dir):\n",
        "    os.makedirs(checkpoint_dir)\n",
        "\n",
        "\n",
        "def make_or_restore_model():\n",
        "    # Either restore the latest model, or create a fresh one\n",
        "    # if there is no checkpoint available.\n",
        "    checkpoints = [checkpoint_dir + \"/\" + name for name in os.listdir(checkpoint_dir)]\n",
        "    if checkpoints:\n",
        "        latest_checkpoint = max(checkpoints, key=os.path.getctime)\n",
        "        print(\"Restoring from\", latest_checkpoint)\n",
        "        return keras.models.load_model(latest_checkpoint)\n",
        "    print(\"Creating a new model\")\n",
        "    return get_compiled_model()\n",
        "\n",
        "\n",
        "model = make_or_restore_model()\n",
        "callbacks = [\n",
        "    # This callback saves a SavedModel every 100 batches.\n",
        "    # We include the training loss in the saved model name.\n",
        "    keras.callbacks.ModelCheckpoint(\n",
        "        filepath=checkpoint_dir + \"/ckpt-loss={loss:.2f}\", save_freq=100\n",
        "    )\n",
        "]\n",
        "model.fit(image_data_generator(x_train, y_train, batch_size=24, is_training=True),\n",
        "                              steps_per_epoch=50,\n",
        "                              epochs=5,\n",
        "                              validation_data = image_data_generator(x_valid, y_valid, batch_size=24, is_training=False),\n",
        "                              validation_steps=50,\n",
        "                              verbose=1,\n",
        "                              shuffle=1,\n",
        "                              callbacks=[checkpoint_callback, tensorboard_callback])"
      ],
      "metadata": {
        "colab": {
          "base_uri": "https://localhost:8080/"
        },
        "id": "2F5ppwvmT8XS",
        "outputId": "f9dad28d-9e46-48d0-c6ed-4823342ef182"
      },
      "execution_count": 24,
      "outputs": [
        {
          "output_type": "stream",
          "name": "stdout",
          "text": [
            "Restoring from model_output//lane_navigation_check.h5\n",
            "Epoch 1/5\n",
            "50/50 [==============================] - ETA: 0s - loss: 0.0481\n",
            "Epoch 1: val_loss did not improve from 0.05010\n",
            "50/50 [==============================] - 60s 1s/step - loss: 0.0481 - val_loss: 0.0566\n",
            "Epoch 2/5\n",
            "50/50 [==============================] - ETA: 0s - loss: 0.0453\n",
            "Epoch 2: val_loss did not improve from 0.05010\n",
            "50/50 [==============================] - 139s 3s/step - loss: 0.0453 - val_loss: 0.0528\n",
            "Epoch 3/5\n",
            "50/50 [==============================] - ETA: 0s - loss: 0.0469\n",
            "Epoch 3: val_loss improved from 0.05010 to 0.04944, saving model to model_output/lane_navigation_check.h5\n",
            "50/50 [==============================] - 228s 5s/step - loss: 0.0469 - val_loss: 0.0494\n",
            "Epoch 4/5\n",
            "50/50 [==============================] - ETA: 0s - loss: 0.0479\n",
            "Epoch 4: val_loss improved from 0.04944 to 0.04703, saving model to model_output/lane_navigation_check.h5\n",
            "50/50 [==============================] - 319s 6s/step - loss: 0.0479 - val_loss: 0.0470\n",
            "Epoch 5/5\n",
            "50/50 [==============================] - ETA: 0s - loss: 0.0480\n",
            "Epoch 5: val_loss did not improve from 0.04703\n",
            "50/50 [==============================] - 410s 8s/step - loss: 0.0480 - val_loss: 0.0470\n"
          ]
        },
        {
          "output_type": "execute_result",
          "data": {
            "text/plain": [
              "<keras.callbacks.History at 0x7f1e9dc932d0>"
            ]
          },
          "metadata": {},
          "execution_count": 24
        }
      ]
    },
    {
      "cell_type": "code",
      "source": [
        "model.save(os.path.join(model_output_dir,'self-drive.h5'))"
      ],
      "metadata": {
        "id": "AWHYfK2JwTMG"
      },
      "execution_count": 27,
      "outputs": []
    },
    {
      "cell_type": "code",
      "execution_count": 28,
      "metadata": {
        "colab": {
          "base_uri": "https://localhost:8080/",
          "height": 240
        },
        "id": "cSVKTV84O4AI",
        "outputId": "9f702d01-eabd-4366-dc7d-fd4bd5ae043d"
      },
      "outputs": [
        {
          "output_type": "error",
          "ename": "NameError",
          "evalue": "ignored",
          "traceback": [
            "\u001b[0;31m---------------------------------------------------------------------------\u001b[0m",
            "\u001b[0;31mNameError\u001b[0m                                 Traceback (most recent call last)",
            "\u001b[0;32m<ipython-input-28-16bb9edd8282>\u001b[0m in \u001b[0;36m<module>\u001b[0;34m()\u001b[0m\n\u001b[0;32m----> 1\u001b[0;31m \u001b[0mplt\u001b[0m\u001b[0;34m.\u001b[0m\u001b[0mplot\u001b[0m\u001b[0;34m(\u001b[0m\u001b[0mhistory\u001b[0m\u001b[0;34m.\u001b[0m\u001b[0mhistory\u001b[0m\u001b[0;34m[\u001b[0m\u001b[0;34m'loss'\u001b[0m\u001b[0;34m]\u001b[0m\u001b[0;34m,\u001b[0m\u001b[0mcolor\u001b[0m\u001b[0;34m=\u001b[0m\u001b[0;34m'blue'\u001b[0m\u001b[0;34m)\u001b[0m\u001b[0;34m\u001b[0m\u001b[0;34m\u001b[0m\u001b[0m\n\u001b[0m\u001b[1;32m      2\u001b[0m \u001b[0mplt\u001b[0m\u001b[0;34m.\u001b[0m\u001b[0mplot\u001b[0m\u001b[0;34m(\u001b[0m\u001b[0mhistory\u001b[0m\u001b[0;34m.\u001b[0m\u001b[0mhistory\u001b[0m\u001b[0;34m[\u001b[0m\u001b[0;34m'val_loss'\u001b[0m\u001b[0;34m]\u001b[0m\u001b[0;34m,\u001b[0m\u001b[0mcolor\u001b[0m\u001b[0;34m=\u001b[0m\u001b[0;34m'red'\u001b[0m\u001b[0;34m)\u001b[0m\u001b[0;34m\u001b[0m\u001b[0;34m\u001b[0m\u001b[0m\n\u001b[1;32m      3\u001b[0m \u001b[0mplt\u001b[0m\u001b[0;34m.\u001b[0m\u001b[0mlegend\u001b[0m\u001b[0;34m(\u001b[0m\u001b[0;34m[\u001b[0m\u001b[0;34m\"training loss\"\u001b[0m\u001b[0;34m,\u001b[0m \u001b[0;34m\"validation loss\"\u001b[0m\u001b[0;34m]\u001b[0m\u001b[0;34m)\u001b[0m\u001b[0;34m\u001b[0m\u001b[0;34m\u001b[0m\u001b[0m\n\u001b[1;32m      4\u001b[0m \u001b[0;34m\u001b[0m\u001b[0m\n\u001b[1;32m      5\u001b[0m \u001b[0m_\u001b[0m\u001b[0;34m,\u001b[0m \u001b[0mcategorical_acc\u001b[0m \u001b[0;34m=\u001b[0m \u001b[0mmodel\u001b[0m\u001b[0;34m.\u001b[0m\u001b[0mevaluate\u001b[0m\u001b[0;34m(\u001b[0m\u001b[0my_train\u001b[0m\u001b[0;34m)\u001b[0m\u001b[0;34m\u001b[0m\u001b[0;34m\u001b[0m\u001b[0m\n",
            "\u001b[0;31mNameError\u001b[0m: name 'history' is not defined"
          ]
        }
      ],
      "source": [
        "history = model.history\n",
        "plt.plot(history.history['loss'],color='blue')\n",
        "plt.plot(history.history['val_loss'],color='red')\n",
        "plt.legend([\"training loss\", \"validation loss\"])\n",
        "\n",
        "_, categorical_acc = model.evaluate(y_train)\n",
        "print(f\"Categorical accuracy on the test set: {round(categorical_acc * 100, 2)}%.\")"
      ]
    },
    {
      "cell_type": "code",
      "execution_count": 29,
      "metadata": {
        "colab": {
          "base_uri": "https://localhost:8080/"
        },
        "id": "jqIZIXJLO4AI",
        "outputId": "9d258873-39f6-4172-a9c2-b79be07fe7f7"
      },
      "outputs": [
        {
          "output_type": "stream",
          "name": "stdout",
          "text": [
            "mse       = 0.045\n",
            "r_squared = 52.57%\n"
          ]
        }
      ],
      "source": [
        "from sklearn.metrics import mean_squared_error, r2_score\n",
        "\n",
        "def summarize_prediction(Y_true, Y_pred):\n",
        "    mse = mean_squared_error(Y_true, Y_pred)\n",
        "    r_squared = r2_score(Y_true, Y_pred)\n",
        "    print(f'mse       = {mse:.2}')\n",
        "    print(f'r_squared = {r_squared:.2%}')\n",
        "    \n",
        "def predict_and_summarize(X, Y):\n",
        "    model = load_model(f'{model_output_dir}/self-drive.h5')\n",
        "    prediction = model.predict(X)\n",
        "    summarize_prediction(Y, prediction)\n",
        "    return prediction\n",
        "\n",
        "n_tests = 1000\n",
        "x_test, y_test = next(image_data_generator(x_valid, y_valid, n_tests, False))\n",
        "y_pred = predict_and_summarize(x_test, y_test)"
      ]
    },
    {
      "cell_type": "code",
      "execution_count": 53,
      "metadata": {
        "colab": {
          "base_uri": "https://localhost:8080/"
        },
        "id": "aTXDW1x-O4AJ",
        "outputId": "c5b41875-f976-4bce-b3fe-834bfcdbe12c"
      },
      "outputs": [
        {
          "output_type": "stream",
          "name": "stdout",
          "text": [
            "data/test_data/140.png\n"
          ]
        }
      ],
      "source": [
        "model = load_model(f'{model_output_dir}/self-drive.h5')\n",
        "        \n",
        "def compute_steering_angle(model, frame):\n",
        "    x = np.asarray([img_preprocess(frame)])\n",
        "    \n",
        "    # Return array [angle, speed]\n",
        "    return model.predict(x)[0]\n",
        "\n",
        "x_test = load_test()\n",
        "\n",
        "print(x_test[0])\n",
        "\n",
        "predicted_angles = []\n",
        "predicted_speeds = []\n",
        "image_ids = []\n",
        "\n",
        "\n",
        "for image_path in x_test:\n",
        "    prediction = compute_steering_angle(model, read_image(image_path))\n",
        "    \n",
        "\n",
        "    angle = prediction[0]\n",
        "    speed = prediction[1]\n",
        "\n",
        "    predicted_angles.append(prediction[0])\n",
        "    if prediction[1] < 0.5:\n",
        "      predicted_speeds.append(0)\n",
        "    else:\n",
        "      predicted_speeds.append(1)\n",
        "\n",
        "\n",
        "\n",
        "    image_ids.append(os.path.basename(image_path).split('.')[0])"
      ]
    },
    {
      "cell_type": "code",
      "execution_count": 54,
      "metadata": {
        "colab": {
          "base_uri": "https://localhost:8080/"
        },
        "id": "XXsHPGymO4AJ",
        "outputId": "f496f9e8-ca00-43c1-b20d-b223a6fadf5a"
      },
      "outputs": [
        {
          "output_type": "stream",
          "name": "stdout",
          "text": [
            "    image_id     angle  speed\n",
            "959        1  0.640871      0\n",
            "421        2  0.677241      1\n",
            "112        3  0.154672      1\n",
            "972        4  0.289343      1\n",
            "797        5  0.064240      1\n",
            "..       ...       ...    ...\n",
            "816       96  0.366249      0\n",
            "593       97  0.344305      0\n",
            "187       98  0.611126      0\n",
            "223       99  0.486729      1\n",
            "732      100  0.662740      1\n",
            "\n",
            "[100 rows x 3 columns]\n"
          ]
        }
      ],
      "source": [
        "from natsort import natsort_keygen\n",
        "\n",
        "data = {\n",
        "    'image_id': image_ids,\n",
        "    'angle': predicted_angles,\n",
        "    'speed': predicted_speeds\n",
        "}\n",
        "results = pd.DataFrame(data)\n",
        "results.sort_values('image_id', inplace=True, key=natsort_keygen())\n",
        "print(results.head(100))"
      ]
    },
    {
      "cell_type": "code",
      "execution_count": 55,
      "metadata": {
        "id": "BJXL_eYdO4AK"
      },
      "outputs": [],
      "source": [
        "results.to_csv('results.csv', index=False)"
      ]
    },
    {
      "cell_type": "code",
      "execution_count": 56,
      "metadata": {
        "id": "WWg6d0nuO4AK",
        "outputId": "70a6ed2b-4b86-4687-f88a-275fab3751a3",
        "colab": {
          "base_uri": "https://localhost:8080/"
        }
      },
      "outputs": [
        {
          "output_type": "stream",
          "name": "stdout",
          "text": [
            "587\n",
            "0.7805456\n"
          ]
        },
        {
          "output_type": "execute_result",
          "data": {
            "text/plain": [
              "0"
            ]
          },
          "metadata": {},
          "execution_count": 56
        }
      ],
      "source": [
        "print(results.at[20, 'image_id'])\n",
        "print(results.at[20, 'angle'])\n",
        "results.at[20, 'speed']"
      ]
    },
    {
      "cell_type": "code",
      "execution_count": null,
      "metadata": {
        "id": "M-Yja1HFO4AK"
      },
      "outputs": [],
      "source": [
        ""
      ]
    }
  ],
  "metadata": {
    "interpreter": {
      "hash": "aee8b7b246df8f9039afb4144a1f6fd8d2ca17a180786b69acc140d282b71a49"
    },
    "kernelspec": {
      "display_name": "Python 3.9.10 64-bit",
      "language": "python",
      "name": "python3"
    },
    "language_info": {
      "codemirror_mode": {
        "name": "ipython",
        "version": 3
      },
      "file_extension": ".py",
      "mimetype": "text/x-python",
      "name": "python",
      "nbconvert_exporter": "python",
      "pygments_lexer": "ipython3",
      "version": "3.9.10"
    },
    "orig_nbformat": 4,
    "colab": {
      "name": "main.ipynb",
      "provenance": [],
      "machine_shape": "hm"
    },
    "accelerator": "GPU"
  },
  "nbformat": 4,
  "nbformat_minor": 0
}